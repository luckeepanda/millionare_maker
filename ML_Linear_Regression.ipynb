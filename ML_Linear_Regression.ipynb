{
 "cells": [
  {
   "cell_type": "code",
   "execution_count": 126,
   "metadata": {},
   "outputs": [],
   "source": [
    "import pandas as pd\n",
    "import numpy as np\n",
    "import tensorflow \n",
    "import keras \n",
    "import sklearn\n",
    "import pickle\n",
    "import matplotlib.pyplot as plt\n",
    "from matplotlib import style\n",
    "from sklearn import linear_model \n",
    "from sklearn.tree import DecisionTreeClassifier\n",
    "from sklearn.model_selection import train_test_split\n",
    "from sklearn.metrics import accuracy_score, mean_squared_error, r2_score\n",
    "from sklearn.utils import shuffle\n",
    "from sklearn import linear_model, preprocessing\n",
    "from sklearn.preprocessing import LabelEncoder,MinMaxScaler,StandardScaler, OneHotEncoder, MaxAbsScaler"
   ]
  },
  {
   "cell_type": "code",
   "execution_count": 145,
   "metadata": {},
   "outputs": [
    {
     "data": {
      "text/html": [
       "<div>\n",
       "<style scoped>\n",
       "    .dataframe tbody tr th:only-of-type {\n",
       "        vertical-align: middle;\n",
       "    }\n",
       "\n",
       "    .dataframe tbody tr th {\n",
       "        vertical-align: top;\n",
       "    }\n",
       "\n",
       "    .dataframe thead th {\n",
       "        text-align: right;\n",
       "    }\n",
       "</style>\n",
       "<table border=\"1\" class=\"dataframe\">\n",
       "  <thead>\n",
       "    <tr style=\"text-align: right;\">\n",
       "      <th></th>\n",
       "      <th>Player</th>\n",
       "      <th>ID</th>\n",
       "      <th>Team</th>\n",
       "      <th>Team Number</th>\n",
       "      <th>Points</th>\n",
       "      <th>Salary</th>\n",
       "      <th>Value</th>\n",
       "      <th>Week</th>\n",
       "    </tr>\n",
       "  </thead>\n",
       "  <tbody>\n",
       "    <tr>\n",
       "      <th>0</th>\n",
       "      <td>Chase Edmonds</td>\n",
       "      <td>21</td>\n",
       "      <td>ARI</td>\n",
       "      <td>1</td>\n",
       "      <td>13.5</td>\n",
       "      <td>5000</td>\n",
       "      <td>0.002700</td>\n",
       "      <td>1</td>\n",
       "    </tr>\n",
       "    <tr>\n",
       "      <th>1</th>\n",
       "      <td>Chase Edmonds</td>\n",
       "      <td>21</td>\n",
       "      <td>ARI</td>\n",
       "      <td>1</td>\n",
       "      <td>4.3</td>\n",
       "      <td>4600</td>\n",
       "      <td>0.000935</td>\n",
       "      <td>2</td>\n",
       "    </tr>\n",
       "    <tr>\n",
       "      <th>2</th>\n",
       "      <td>Chase Edmonds</td>\n",
       "      <td>21</td>\n",
       "      <td>ARI</td>\n",
       "      <td>1</td>\n",
       "      <td>5.4</td>\n",
       "      <td>4600</td>\n",
       "      <td>0.001174</td>\n",
       "      <td>3</td>\n",
       "    </tr>\n",
       "    <tr>\n",
       "      <th>3</th>\n",
       "      <td>Chase Edmonds</td>\n",
       "      <td>21</td>\n",
       "      <td>ARI</td>\n",
       "      <td>1</td>\n",
       "      <td>15.0</td>\n",
       "      <td>4200</td>\n",
       "      <td>0.003571</td>\n",
       "      <td>4</td>\n",
       "    </tr>\n",
       "    <tr>\n",
       "      <th>4</th>\n",
       "      <td>Chase Edmonds</td>\n",
       "      <td>21</td>\n",
       "      <td>ARI</td>\n",
       "      <td>1</td>\n",
       "      <td>20.2</td>\n",
       "      <td>4700</td>\n",
       "      <td>0.004298</td>\n",
       "      <td>5</td>\n",
       "    </tr>\n",
       "    <tr>\n",
       "      <th>...</th>\n",
       "      <td>...</td>\n",
       "      <td>...</td>\n",
       "      <td>...</td>\n",
       "      <td>...</td>\n",
       "      <td>...</td>\n",
       "      <td>...</td>\n",
       "      <td>...</td>\n",
       "      <td>...</td>\n",
       "    </tr>\n",
       "    <tr>\n",
       "      <th>658</th>\n",
       "      <td>Salvon Ahmed</td>\n",
       "      <td>103</td>\n",
       "      <td>MIA</td>\n",
       "      <td>32</td>\n",
       "      <td>16.0</td>\n",
       "      <td>4000</td>\n",
       "      <td>0.004000</td>\n",
       "      <td>10</td>\n",
       "    </tr>\n",
       "    <tr>\n",
       "      <th>659</th>\n",
       "      <td>Salvon Ahmed</td>\n",
       "      <td>103</td>\n",
       "      <td>MIA</td>\n",
       "      <td>32</td>\n",
       "      <td>12.4</td>\n",
       "      <td>4800</td>\n",
       "      <td>0.002583</td>\n",
       "      <td>11</td>\n",
       "    </tr>\n",
       "    <tr>\n",
       "      <th>660</th>\n",
       "      <td>Samaje Perine</td>\n",
       "      <td>104</td>\n",
       "      <td>CIN</td>\n",
       "      <td>31</td>\n",
       "      <td>10.4</td>\n",
       "      <td>4000</td>\n",
       "      <td>0.002600</td>\n",
       "      <td>8</td>\n",
       "    </tr>\n",
       "    <tr>\n",
       "      <th>661</th>\n",
       "      <td>Samaje Perine</td>\n",
       "      <td>104</td>\n",
       "      <td>CIN</td>\n",
       "      <td>31</td>\n",
       "      <td>6.5</td>\n",
       "      <td>4000</td>\n",
       "      <td>0.001625</td>\n",
       "      <td>10</td>\n",
       "    </tr>\n",
       "    <tr>\n",
       "      <th>662</th>\n",
       "      <td>Samaje Perine</td>\n",
       "      <td>104</td>\n",
       "      <td>CIN</td>\n",
       "      <td>31</td>\n",
       "      <td>3.1</td>\n",
       "      <td>4000</td>\n",
       "      <td>0.000775</td>\n",
       "      <td>11</td>\n",
       "    </tr>\n",
       "  </tbody>\n",
       "</table>\n",
       "<p>663 rows × 8 columns</p>\n",
       "</div>"
      ],
      "text/plain": [
       "            Player   ID Team  Team Number  Points  Salary     Value  Week\n",
       "0    Chase Edmonds   21  ARI            1    13.5    5000  0.002700     1\n",
       "1    Chase Edmonds   21  ARI            1     4.3    4600  0.000935     2\n",
       "2    Chase Edmonds   21  ARI            1     5.4    4600  0.001174     3\n",
       "3    Chase Edmonds   21  ARI            1    15.0    4200  0.003571     4\n",
       "4    Chase Edmonds   21  ARI            1    20.2    4700  0.004298     5\n",
       "..             ...  ...  ...          ...     ...     ...       ...   ...\n",
       "658   Salvon Ahmed  103  MIA           32    16.0    4000  0.004000    10\n",
       "659   Salvon Ahmed  103  MIA           32    12.4    4800  0.002583    11\n",
       "660  Samaje Perine  104  CIN           31    10.4    4000  0.002600     8\n",
       "661  Samaje Perine  104  CIN           31     6.5    4000  0.001625    10\n",
       "662  Samaje Perine  104  CIN           31     3.1    4000  0.000775    11\n",
       "\n",
       "[663 rows x 8 columns]"
      ]
     },
     "execution_count": 145,
     "metadata": {},
     "output_type": "execute_result"
    }
   ],
   "source": [
    "df = pd.read_csv('RB_history.csv')\n",
    "df"
   ]
  },
  {
   "cell_type": "code",
   "execution_count": 146,
   "metadata": {},
   "outputs": [
    {
     "data": {
      "text/html": [
       "<div>\n",
       "<style scoped>\n",
       "    .dataframe tbody tr th:only-of-type {\n",
       "        vertical-align: middle;\n",
       "    }\n",
       "\n",
       "    .dataframe tbody tr th {\n",
       "        vertical-align: top;\n",
       "    }\n",
       "\n",
       "    .dataframe thead th {\n",
       "        text-align: right;\n",
       "    }\n",
       "</style>\n",
       "<table border=\"1\" class=\"dataframe\">\n",
       "  <thead>\n",
       "    <tr style=\"text-align: right;\">\n",
       "      <th></th>\n",
       "      <th>ID</th>\n",
       "      <th>Points</th>\n",
       "      <th>Team Number</th>\n",
       "      <th>Salary</th>\n",
       "      <th>Value</th>\n",
       "    </tr>\n",
       "  </thead>\n",
       "  <tbody>\n",
       "    <tr>\n",
       "      <th>0</th>\n",
       "      <td>21</td>\n",
       "      <td>13.5</td>\n",
       "      <td>1</td>\n",
       "      <td>5000</td>\n",
       "      <td>0.002700</td>\n",
       "    </tr>\n",
       "    <tr>\n",
       "      <th>1</th>\n",
       "      <td>21</td>\n",
       "      <td>4.3</td>\n",
       "      <td>1</td>\n",
       "      <td>4600</td>\n",
       "      <td>0.000935</td>\n",
       "    </tr>\n",
       "    <tr>\n",
       "      <th>2</th>\n",
       "      <td>21</td>\n",
       "      <td>5.4</td>\n",
       "      <td>1</td>\n",
       "      <td>4600</td>\n",
       "      <td>0.001174</td>\n",
       "    </tr>\n",
       "    <tr>\n",
       "      <th>3</th>\n",
       "      <td>21</td>\n",
       "      <td>15.0</td>\n",
       "      <td>1</td>\n",
       "      <td>4200</td>\n",
       "      <td>0.003571</td>\n",
       "    </tr>\n",
       "    <tr>\n",
       "      <th>4</th>\n",
       "      <td>21</td>\n",
       "      <td>20.2</td>\n",
       "      <td>1</td>\n",
       "      <td>4700</td>\n",
       "      <td>0.004298</td>\n",
       "    </tr>\n",
       "    <tr>\n",
       "      <th>...</th>\n",
       "      <td>...</td>\n",
       "      <td>...</td>\n",
       "      <td>...</td>\n",
       "      <td>...</td>\n",
       "      <td>...</td>\n",
       "    </tr>\n",
       "    <tr>\n",
       "      <th>658</th>\n",
       "      <td>103</td>\n",
       "      <td>16.0</td>\n",
       "      <td>32</td>\n",
       "      <td>4000</td>\n",
       "      <td>0.004000</td>\n",
       "    </tr>\n",
       "    <tr>\n",
       "      <th>659</th>\n",
       "      <td>103</td>\n",
       "      <td>12.4</td>\n",
       "      <td>32</td>\n",
       "      <td>4800</td>\n",
       "      <td>0.002583</td>\n",
       "    </tr>\n",
       "    <tr>\n",
       "      <th>660</th>\n",
       "      <td>104</td>\n",
       "      <td>10.4</td>\n",
       "      <td>31</td>\n",
       "      <td>4000</td>\n",
       "      <td>0.002600</td>\n",
       "    </tr>\n",
       "    <tr>\n",
       "      <th>661</th>\n",
       "      <td>104</td>\n",
       "      <td>6.5</td>\n",
       "      <td>31</td>\n",
       "      <td>4000</td>\n",
       "      <td>0.001625</td>\n",
       "    </tr>\n",
       "    <tr>\n",
       "      <th>662</th>\n",
       "      <td>104</td>\n",
       "      <td>3.1</td>\n",
       "      <td>31</td>\n",
       "      <td>4000</td>\n",
       "      <td>0.000775</td>\n",
       "    </tr>\n",
       "  </tbody>\n",
       "</table>\n",
       "<p>663 rows × 5 columns</p>\n",
       "</div>"
      ],
      "text/plain": [
       "      ID  Points  Team Number  Salary     Value\n",
       "0     21    13.5            1    5000  0.002700\n",
       "1     21     4.3            1    4600  0.000935\n",
       "2     21     5.4            1    4600  0.001174\n",
       "3     21    15.0            1    4200  0.003571\n",
       "4     21    20.2            1    4700  0.004298\n",
       "..   ...     ...          ...     ...       ...\n",
       "658  103    16.0           32    4000  0.004000\n",
       "659  103    12.4           32    4800  0.002583\n",
       "660  104    10.4           31    4000  0.002600\n",
       "661  104     6.5           31    4000  0.001625\n",
       "662  104     3.1           31    4000  0.000775\n",
       "\n",
       "[663 rows x 5 columns]"
      ]
     },
     "execution_count": 146,
     "metadata": {},
     "output_type": "execute_result"
    }
   ],
   "source": [
    "data = df[[\"ID\",\"Points\", \"Team Number\", \"Salary\",\"Value\"]]\n",
    "data"
   ]
  },
  {
   "cell_type": "code",
   "execution_count": 147,
   "metadata": {},
   "outputs": [],
   "source": [
    "x = data.drop([\"Points\"], axis=1)\n",
    "y = data.Points\n"
   ]
  },
  {
   "cell_type": "code",
   "execution_count": 148,
   "metadata": {},
   "outputs": [],
   "source": [
    "x_train, x_test, y_train, y_test = sklearn.model_selection.train_test_split(x, y, test_size = 0.2, random_state=42)"
   ]
  },
  {
   "cell_type": "code",
   "execution_count": 149,
   "metadata": {},
   "outputs": [
    {
     "data": {
      "text/plain": [
       "array([[ 3.41666667e-01,  2.91666667e-02,  8.33208333e+01,\n",
       "        -1.24765625e-02],\n",
       "       [ 1.34166667e+00,  2.58333333e-01,  8.33208333e+01,\n",
       "        -1.24713542e-02],\n",
       "       [ 2.05000000e+00,  3.83333333e-01,  8.33208333e+01,\n",
       "        -1.23187500e-02],\n",
       "       ...,\n",
       "       [ 5.08333333e-01,  2.79166667e-01,  1.39570833e+02,\n",
       "        -1.24350124e-02],\n",
       "       [ 8.20833333e-01,  4.25000000e-01,  8.54041667e+01,\n",
       "        -1.24791667e-02],\n",
       "       [ 6.95833333e-01,  1.12500000e-01,  1.22904167e+02,\n",
       "        -1.24703390e-02]])"
      ]
     },
     "execution_count": 149,
     "metadata": {},
     "output_type": "execute_result"
    }
   ],
   "source": [
    "scaler = MinMaxScaler()\n",
    "x_scaler = scaler.fit(x_train)\n",
    "\n",
    "y_train = y_train.values.reshape(-1,1)\n",
    "y_scaler = scaler.fit(y_train)\n",
    "\n",
    "y_test = y_test.values.reshape(-1,1)\n",
    "\n",
    "x_train_scaled = x_scaler.transform(x_train)\n",
    "x_test_scaled = x_scaler.transform(x_test)\n",
    "y_train_scaled = y_scaler.transform(y_train)\n",
    "y_test_scaled = y_scaler.transform(y_test)\n",
    "x_train_scaled"
   ]
  },
  {
   "cell_type": "code",
   "execution_count": 150,
   "metadata": {},
   "outputs": [
    {
     "data": {
      "text/plain": [
       "((530, 4), (530, 1))"
      ]
     },
     "execution_count": 150,
     "metadata": {},
     "output_type": "execute_result"
    }
   ],
   "source": [
    "x_train.shape, y_train.shape"
   ]
  },
  {
   "cell_type": "code",
   "execution_count": 151,
   "metadata": {},
   "outputs": [
    {
     "data": {
      "text/plain": [
       "((133, 4), (133, 1))"
      ]
     },
     "execution_count": 151,
     "metadata": {},
     "output_type": "execute_result"
    }
   ],
   "source": [
    "x_test.shape, y_test.shape"
   ]
  },
  {
   "cell_type": "code",
   "execution_count": 152,
   "metadata": {},
   "outputs": [],
   "source": [
    "model = linear_model.LinearRegression()"
   ]
  },
  {
   "cell_type": "code",
   "execution_count": 153,
   "metadata": {},
   "outputs": [
    {
     "data": {
      "text/plain": [
       "LinearRegression(copy_X=True, fit_intercept=True, n_jobs=None, normalize=False)"
      ]
     },
     "execution_count": 153,
     "metadata": {},
     "output_type": "execute_result"
    }
   ],
   "source": [
    "model.fit(x_train_scaled, y_train_scaled)"
   ]
  },
  {
   "cell_type": "code",
   "execution_count": 154,
   "metadata": {},
   "outputs": [
    {
     "name": "stdout",
     "output_type": "stream",
     "text": [
      "0.9581078067668976\n"
     ]
    }
   ],
   "source": [
    "y_pred = model.predict(x_test_scaled)\n",
    "\n",
    "print(model.score(x_test_scaled, y_test_scaled)) #evaluate the model "
   ]
  },
  {
   "cell_type": "code",
   "execution_count": 155,
   "metadata": {},
   "outputs": [
    {
     "data": {
      "image/png": "[encoded data removed]",
      "text/plain": [
       "<Figure size 432x288 with 1 Axes>"
      ]
     },
     "metadata": {
      "needs_background": "light"
     },
     "output_type": "display_data"
    }
   ],
   "source": [
    "predictions = model.predict(x_test_scaled)\n",
    "model.fit(x_train_scaled, y_train_scaled)\n",
    "plt.scatter(model.predict(x_train_scaled), model.predict(x_train_scaled) - y_train_scaled, c=\"blue\", label=\"Training Data\")\n",
    "plt.scatter(model.predict(x_test_scaled), model.predict(x_test_scaled) - y_test_scaled, c=\"orange\", label=\"Testing Data\")\n",
    "plt.legend()\n",
    "plt.hlines(y=0, xmin=y_test_scaled.min(), xmax=y_test_scaled.max())\n",
    "plt.title(\"Residual Plot\")\n",
    "plt.show()"
   ]
  },
  {
   "cell_type": "code",
   "execution_count": 156,
   "metadata": {},
   "outputs": [],
   "source": [
    "# print(f\"First 10 Predictions:   {predictions[:10]}\")\n",
    "# print(f\"First 10 Actual stats: {y_test_scaled[:10]}\")"
   ]
  },
  {
   "cell_type": "code",
   "execution_count": 157,
   "metadata": {},
   "outputs": [],
   "source": [
    "actual = y_scaler.inverse_transform(y_test_scaled)\n",
    "final_prediction = y_scaler.inverse_transform(predictions)\n",
    "ID = x_scaler.inverse_transform(x_test_scaled)"
   ]
  },
  {
   "cell_type": "code",
   "execution_count": 158,
   "metadata": {},
   "outputs": [
    {
     "data": {
      "text/html": [
       "<div>\n",
       "<style scoped>\n",
       "    .dataframe tbody tr th:only-of-type {\n",
       "        vertical-align: middle;\n",
       "    }\n",
       "\n",
       "    .dataframe tbody tr th {\n",
       "        vertical-align: top;\n",
       "    }\n",
       "\n",
       "    .dataframe thead th {\n",
       "        text-align: right;\n",
       "    }\n",
       "</style>\n",
       "<table border=\"1\" class=\"dataframe\">\n",
       "  <thead>\n",
       "    <tr style=\"text-align: right;\">\n",
       "      <th></th>\n",
       "      <th>Name</th>\n",
       "      <th>ID</th>\n",
       "      <th>FFt</th>\n",
       "      <th>ESPN</th>\n",
       "      <th>Awesomeo</th>\n",
       "      <th>Points</th>\n",
       "      <th>Team</th>\n",
       "      <th>Team Number</th>\n",
       "      <th>Salary</th>\n",
       "      <th>Value</th>\n",
       "    </tr>\n",
       "  </thead>\n",
       "  <tbody>\n",
       "    <tr>\n",
       "      <th>0</th>\n",
       "      <td>Ezekiel Elliott</td>\n",
       "      <td>43</td>\n",
       "      <td>16.2</td>\n",
       "      <td>15.22</td>\n",
       "      <td>18.12</td>\n",
       "      <td>16.513333</td>\n",
       "      <td>DAL</td>\n",
       "      <td>8</td>\n",
       "      <td>6800</td>\n",
       "      <td>0.002428</td>\n",
       "    </tr>\n",
       "    <tr>\n",
       "      <th>1</th>\n",
       "      <td>Antonio Gibson</td>\n",
       "      <td>13</td>\n",
       "      <td>14.1</td>\n",
       "      <td>15.34</td>\n",
       "      <td>14.36</td>\n",
       "      <td>14.600000</td>\n",
       "      <td>WAS</td>\n",
       "      <td>29</td>\n",
       "      <td>6000</td>\n",
       "      <td>0.002433</td>\n",
       "    </tr>\n",
       "    <tr>\n",
       "      <th>2</th>\n",
       "      <td>Duke Johnson</td>\n",
       "      <td>42</td>\n",
       "      <td>7.3</td>\n",
       "      <td>14.59</td>\n",
       "      <td>15.84</td>\n",
       "      <td>12.576667</td>\n",
       "      <td>HOU</td>\n",
       "      <td>12</td>\n",
       "      <td>5700</td>\n",
       "      <td>0.002206</td>\n",
       "    </tr>\n",
       "    <tr>\n",
       "      <th>3</th>\n",
       "      <td>J.D. McKissic</td>\n",
       "      <td>48</td>\n",
       "      <td>6.9</td>\n",
       "      <td>12.99</td>\n",
       "      <td>12.70</td>\n",
       "      <td>10.863333</td>\n",
       "      <td>WAS</td>\n",
       "      <td>29</td>\n",
       "      <td>5100</td>\n",
       "      <td>0.002130</td>\n",
       "    </tr>\n",
       "    <tr>\n",
       "      <th>4</th>\n",
       "      <td>Adrian Peterson</td>\n",
       "      <td>2</td>\n",
       "      <td>13.6</td>\n",
       "      <td>11.73</td>\n",
       "      <td>12.12</td>\n",
       "      <td>12.483333</td>\n",
       "      <td>DET</td>\n",
       "      <td>10</td>\n",
       "      <td>4700</td>\n",
       "      <td>0.002656</td>\n",
       "    </tr>\n",
       "    <tr>\n",
       "      <th>5</th>\n",
       "      <td>Kerryon Johnson</td>\n",
       "      <td>73</td>\n",
       "      <td>5.0</td>\n",
       "      <td>12.89</td>\n",
       "      <td>10.31</td>\n",
       "      <td>9.400000</td>\n",
       "      <td>DET</td>\n",
       "      <td>10</td>\n",
       "      <td>4300</td>\n",
       "      <td>0.002186</td>\n",
       "    </tr>\n",
       "    <tr>\n",
       "      <th>6</th>\n",
       "      <td>Tony Pollard</td>\n",
       "      <td>110</td>\n",
       "      <td>2.6</td>\n",
       "      <td>6.35</td>\n",
       "      <td>7.98</td>\n",
       "      <td>5.643333</td>\n",
       "      <td>DAL</td>\n",
       "      <td>8</td>\n",
       "      <td>4000</td>\n",
       "      <td>0.001411</td>\n",
       "    </tr>\n",
       "  </tbody>\n",
       "</table>\n",
       "</div>"
      ],
      "text/plain": [
       "              Name   ID   FFt   ESPN  Awesomeo     Points Team  Team Number  \\\n",
       "0  Ezekiel Elliott   43  16.2  15.22     18.12  16.513333  DAL            8   \n",
       "1   Antonio Gibson   13  14.1  15.34     14.36  14.600000  WAS           29   \n",
       "2     Duke Johnson   42   7.3  14.59     15.84  12.576667  HOU           12   \n",
       "3    J.D. McKissic   48   6.9  12.99     12.70  10.863333  WAS           29   \n",
       "4  Adrian Peterson    2  13.6  11.73     12.12  12.483333  DET           10   \n",
       "5  Kerryon Johnson   73   5.0  12.89     10.31   9.400000  DET           10   \n",
       "6     Tony Pollard  110   2.6   6.35      7.98   5.643333  DAL            8   \n",
       "\n",
       "   Salary     Value  \n",
       "0    6800  0.002428  \n",
       "1    6000  0.002433  \n",
       "2    5700  0.002206  \n",
       "3    5100  0.002130  \n",
       "4    4700  0.002656  \n",
       "5    4300  0.002186  \n",
       "6    4000  0.001411  "
      ]
     },
     "execution_count": 158,
     "metadata": {},
     "output_type": "execute_result"
    }
   ],
   "source": [
    "df2 = pd.read_csv('RB_test.csv')\n",
    "df2"
   ]
  },
  {
   "cell_type": "code",
   "execution_count": 159,
   "metadata": {},
   "outputs": [
    {
     "data": {
      "text/html": [
       "<div>\n",
       "<style scoped>\n",
       "    .dataframe tbody tr th:only-of-type {\n",
       "        vertical-align: middle;\n",
       "    }\n",
       "\n",
       "    .dataframe tbody tr th {\n",
       "        vertical-align: top;\n",
       "    }\n",
       "\n",
       "    .dataframe thead th {\n",
       "        text-align: right;\n",
       "    }\n",
       "</style>\n",
       "<table border=\"1\" class=\"dataframe\">\n",
       "  <thead>\n",
       "    <tr style=\"text-align: right;\">\n",
       "      <th></th>\n",
       "      <th>ID</th>\n",
       "      <th>Points</th>\n",
       "      <th>Team Number</th>\n",
       "      <th>Salary</th>\n",
       "      <th>Value</th>\n",
       "    </tr>\n",
       "  </thead>\n",
       "  <tbody>\n",
       "    <tr>\n",
       "      <th>0</th>\n",
       "      <td>43</td>\n",
       "      <td>16.513333</td>\n",
       "      <td>8</td>\n",
       "      <td>6800</td>\n",
       "      <td>0.002428</td>\n",
       "    </tr>\n",
       "    <tr>\n",
       "      <th>1</th>\n",
       "      <td>13</td>\n",
       "      <td>14.600000</td>\n",
       "      <td>29</td>\n",
       "      <td>6000</td>\n",
       "      <td>0.002433</td>\n",
       "    </tr>\n",
       "    <tr>\n",
       "      <th>2</th>\n",
       "      <td>42</td>\n",
       "      <td>12.576667</td>\n",
       "      <td>12</td>\n",
       "      <td>5700</td>\n",
       "      <td>0.002206</td>\n",
       "    </tr>\n",
       "    <tr>\n",
       "      <th>3</th>\n",
       "      <td>48</td>\n",
       "      <td>10.863333</td>\n",
       "      <td>29</td>\n",
       "      <td>5100</td>\n",
       "      <td>0.002130</td>\n",
       "    </tr>\n",
       "    <tr>\n",
       "      <th>4</th>\n",
       "      <td>2</td>\n",
       "      <td>12.483333</td>\n",
       "      <td>10</td>\n",
       "      <td>4700</td>\n",
       "      <td>0.002656</td>\n",
       "    </tr>\n",
       "    <tr>\n",
       "      <th>5</th>\n",
       "      <td>73</td>\n",
       "      <td>9.400000</td>\n",
       "      <td>10</td>\n",
       "      <td>4300</td>\n",
       "      <td>0.002186</td>\n",
       "    </tr>\n",
       "    <tr>\n",
       "      <th>6</th>\n",
       "      <td>110</td>\n",
       "      <td>5.643333</td>\n",
       "      <td>8</td>\n",
       "      <td>4000</td>\n",
       "      <td>0.001411</td>\n",
       "    </tr>\n",
       "  </tbody>\n",
       "</table>\n",
       "</div>"
      ],
      "text/plain": [
       "    ID     Points  Team Number  Salary     Value\n",
       "0   43  16.513333            8    6800  0.002428\n",
       "1   13  14.600000           29    6000  0.002433\n",
       "2   42  12.576667           12    5700  0.002206\n",
       "3   48  10.863333           29    5100  0.002130\n",
       "4    2  12.483333           10    4700  0.002656\n",
       "5   73   9.400000           10    4300  0.002186\n",
       "6  110   5.643333            8    4000  0.001411"
      ]
     },
     "execution_count": 159,
     "metadata": {},
     "output_type": "execute_result"
    }
   ],
   "source": [
    "df2 = df2[[\"ID\",\"Points\", \"Team Number\", \"Salary\",\"Value\"]]\n",
    "df2"
   ]
  },
  {
   "cell_type": "code",
   "execution_count": 160,
   "metadata": {},
   "outputs": [],
   "source": [
    "x2 = df2.drop([\"Points\"], axis=1)\n",
    "y2 = df2.Points"
   ]
  },
  {
   "cell_type": "code",
   "execution_count": 161,
   "metadata": {},
   "outputs": [],
   "source": [
    "x2_scaled = x_scaler.transform(x2)"
   ]
  },
  {
   "cell_type": "code",
   "execution_count": 162,
   "metadata": {},
   "outputs": [
    {
     "data": {
      "text/plain": [
       "array([[16.52348215],\n",
       "       [15.10871529],\n",
       "       [12.95499997],\n",
       "       [11.30922317],\n",
       "       [13.26940648],\n",
       "       [ 9.50151448],\n",
       "       [ 4.589773  ]])"
      ]
     },
     "execution_count": 162,
     "metadata": {},
     "output_type": "execute_result"
    }
   ],
   "source": [
    "predictions_scaled = model.predict(x2_scaled)\n",
    "final_prediction = y_scaler.inverse_transform(predictions_scaled)\n",
    "final_prediction"
   ]
  },
  {
   "cell_type": "code",
   "execution_count": 128,
   "metadata": {},
   "outputs": [],
   "source": [
    "np.savetxt(\"foo.csv\", final_prediction, delimiter=\",\")"
   ]
  },
  {
   "cell_type": "code",
   "execution_count": null,
   "metadata": {},
   "outputs": [],
   "source": []
  }
 ],
 "metadata": {
  "kernelspec": {
   "display_name": "Python 3",
   "language": "python",
   "name": "python3"
  },
  "language_info": {
   "codemirror_mode": {
    "name": "ipython",
    "version": 3
   },
   "file_extension": ".py",
   "mimetype": "text/x-python",
   "name": "python",
   "nbconvert_exporter": "python",
   "pygments_lexer": "ipython3",
   "version": "3.7.6"
  }
 },
 "nbformat": 4,
 "nbformat_minor": 4
}
